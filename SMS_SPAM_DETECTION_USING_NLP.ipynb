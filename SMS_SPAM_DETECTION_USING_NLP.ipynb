{
 "cells": [
  {
   "metadata": {},
   "cell_type": "markdown",
   "source": "# *SMS SPAM DETECTION USING NLP*",
   "id": "49b298c451d815b7"
  },
  {
   "metadata": {},
   "cell_type": "markdown",
   "source": "*STEP 1:* **IMPORTING THE LIBRARIES REQUIRED**",
   "id": "e143c8614d706e2a"
  },
  {
   "cell_type": "code",
   "execution_count": null,
   "id": "initial_id",
   "metadata": {
    "collapsed": true
   },
   "outputs": [],
   "source": [
    "import numpy as np\n",
    "import pandas as pd\n",
    "from sklearn.preprocessing import LabelEncoder\n",
    "import matplotlib.pyplot as plt\n",
    "import nltk\n",
    "import seaborn as sns\n",
    "from nltk.corpus import stopwords\n",
    "import string\n",
    "from nltk.stem import PorterStemmer\n",
    "from wordcloud import WordCloud\n",
    "from collections import Counter\n",
    "from sklearn.feature_extraction.text import CountVectorizer, TfidfVectorizer\n",
    "from sklearn.model_selection import train_test_split\n",
    "from sklearn.naive_bayes import GaussianNB, MultinomialNB, BernoulliNB\n",
    "from sklearn.metrics import accuracy_score, precision_score, confusion_matrix"
   ]
  },
  {
   "metadata": {},
   "cell_type": "markdown",
   "source": "*STEP 2:* **ACCESSING THE DATASET FILE & COMPUTING THE SIZE**",
   "id": "5e7d9d0609ed460a"
  },
  {
   "metadata": {},
   "cell_type": "code",
   "outputs": [],
   "execution_count": null,
   "source": [
    "# Reading the CSV file\n",
    "x = pd.read_csv(\"sms-spam.csv\")\n",
    "\n",
    "# Displaying the dataframe\n",
    "print(x)\n",
    "\n",
    "# Size of the Dataset - 5572 rows x 5 columns\n",
    "x.shape"
   ],
   "id": "50273f13f7c63bbd"
  },
  {
   "metadata": {},
   "cell_type": "markdown",
   "source": "*STEP 3:* **CLEANING THE DATA**",
   "id": "cde60595b0d5d181"
  },
  {
   "metadata": {},
   "cell_type": "code",
   "outputs": [],
   "execution_count": null,
   "source": [
    "# Printing the concise summary of the dataset\n",
    "x.info()\n",
    "\n",
    "# Dropping the columns with NULL value\n",
    "x.drop(columns=['Unnamed: 2', 'Unnamed: 3', 'Unnamed: 4'], inplace = True)\n",
    "\n",
    "# Displaying the edited dataframe\n",
    "x\n",
    "\n",
    "# Renaming the columns as per our need for readability\n",
    "x.rename(columns = {'v1':'result', 'v2':'input'}, inplace=True)\n",
    "\n",
    "#displaying the edited dataframe\n",
    "x\n"
   ],
   "id": "48905ac0dda2e685"
  }
 ],
 "metadata": {
  "kernelspec": {
   "display_name": "Python 3",
   "language": "python",
   "name": "python3"
  },
  "language_info": {
   "codemirror_mode": {
    "name": "ipython",
    "version": 2
   },
   "file_extension": ".py",
   "mimetype": "text/x-python",
   "name": "python",
   "nbconvert_exporter": "python",
   "pygments_lexer": "ipython2",
   "version": "2.7.6"
  }
 },
 "nbformat": 4,
 "nbformat_minor": 5
}
